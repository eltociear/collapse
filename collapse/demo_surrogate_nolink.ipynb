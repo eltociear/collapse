{
 "cells": [
  {
   "cell_type": "markdown",
   "id": "0d427d58-28eb-4a6f-9570-138341c6475f",
   "metadata": {},
   "source": [
    "# Distentangling the error and surrogate loss"
   ]
  },
  {
   "cell_type": "code",
   "execution_count": 1,
   "id": "f37e7837-1212-49ee-a561-c160488f92c3",
   "metadata": {},
   "outputs": [],
   "source": [
    "# External modules.\n",
    "import copy\n",
    "import matplotlib.pyplot as plt\n",
    "import numpy as np\n",
    "import torch\n",
    "from torch import nn\n",
    "from torch.utils.data import DataLoader, TensorDataset\n",
    "import os\n",
    "\n",
    "# Internal modules.\n",
    "from setup.directories import img_path\n",
    "from setup.utils import makedir_safe, get_seeds\n",
    "from setup.results import my_ext"
   ]
  },
  {
   "cell_type": "code",
   "execution_count": 2,
   "id": "edb34a1b-2962-443e-af11-2b7d537d457d",
   "metadata": {},
   "outputs": [],
   "source": [
    "# Create directory to save figures.\n",
    "makedir_safe(img_path)"
   ]
  },
  {
   "cell_type": "code",
   "execution_count": 3,
   "id": "a3da775b-3ab0-4754-9af5-9458a6fda629",
   "metadata": {},
   "outputs": [
    {
     "name": "stdout",
     "output_type": "stream",
     "text": [
      "Using cuda device.\n"
     ]
    }
   ],
   "source": [
    "# Clerical setup.\n",
    "\n",
    "# Seeds for multiple random trials.\n",
    "num_trials = 5\n",
    "base_seed = 22993514079364 # fixed seed.\n",
    "#base_seed = np.random.SeedSequence().entropy # uncomment for fresh seeds.\n",
    "random_seeds = get_seeds(base_seed=base_seed, num=num_trials)\n",
    "\n",
    "# Device setup.\n",
    "device = \"cuda\" if torch.cuda.is_available() else \"cpu\"\n",
    "print(\"Using {} device.\".format(device))"
   ]
  },
  {
   "cell_type": "code",
   "execution_count": 4,
   "id": "c18427c9-4cb8-4f69-9882-8eaf1a8cfbe3",
   "metadata": {},
   "outputs": [],
   "source": [
    "# Set up data to be plotted.\n",
    "a = 2.0\n",
    "X = np.array(([1.,-1.], [-1.,1.], [a,-a]))\n",
    "Y = np.array(([0], [1], [1])).flatten()"
   ]
  },
  {
   "cell_type": "code",
   "execution_count": 5,
   "id": "f8098206-ecb0-4dd9-ade1-5a71ccec6caf",
   "metadata": {},
   "outputs": [
    {
     "data": {
      "image/png": "[encoded data removed]",
      "text/plain": [
       "<Figure size 300x250 with 1 Axes>"
      ]
     },
     "metadata": {},
     "output_type": "display_data"
    }
   ],
   "source": [
    "# Visualization.\n",
    "\n",
    "fig, ax = plt.subplots(1, 1, figsize=(3,2.5))\n",
    "\n",
    "horiz_points = np.linspace(-2.5, 2.5, 100)\n",
    "line_separator = horiz_points\n",
    "ax.plot(horiz_points, line_separator,\n",
    "        color=\"xkcd:silver\",\n",
    "        linestyle=\"dashed\")\n",
    "#ax.plot(horiz_points, -line_separator,\n",
    "#        color=\"xkcd:silver\",\n",
    "#        linestyle=\"dashed\")\n",
    "idx_0 = Y == 0\n",
    "idx_1 = Y == 1\n",
    "ax.scatter(X[idx_0,0], X[idx_0,1], marker=\"o\", color=\"xkcd:gold\")\n",
    "ax.scatter(X[idx_1,0], X[idx_1,1], marker=\"x\", color=\"xkcd:dark teal\")\n",
    "ax.axhline(y=0.0, color=\"xkcd:silver\")\n",
    "ax.axvline(x=0.0, color=\"xkcd:silver\")\n",
    "\n",
    "ticks_horiz = [-1, 1, a]\n",
    "ticks_vert = [-a, -1, 1]\n",
    "tick_labels_horiz = [\"-1\", \"1\", r\"$a$\"]\n",
    "tick_labels_vert = [r\"-$\\mathit{a}$\", \"-1\", \"1\"]\n",
    "ax.set_xticks(ticks_horiz)\n",
    "ax.set_xticklabels(tick_labels_horiz)\n",
    "ax.set_yticks(ticks_vert)\n",
    "ax.set_yticklabels(tick_labels_vert)\n",
    "\n",
    "xlim_tuple = (-2.5, 2.5)\n",
    "ylim_tuple = (-2.5, 2.5)\n",
    "ax.set(xlim=xlim_tuple, ylim=ylim_tuple)\n",
    "plt.tight_layout()\n",
    "fname = os.path.join(img_path, \"demo_surrogate_nolink_data.{}\".format(my_ext))\n",
    "plt.savefig(fname=fname)\n",
    "plt.show()"
   ]
  },
  {
   "cell_type": "code",
   "execution_count": 6,
   "id": "9f8117c6-a2b3-429e-8dbd-f7e34fb05f34",
   "metadata": {},
   "outputs": [
    {
     "data": {
      "image/png": "[encoded data removed]",
      "text/plain": [
       "<Figure size 300x250 with 1 Axes>"
      ]
     },
     "metadata": {},
     "output_type": "display_data"
    }
   ],
   "source": [
    "# Visuals.\n",
    "p = 0.8\n",
    "fig, ax = plt.subplots(1, 1, figsize=(3,2.5))\n",
    "bin_width = 0.25\n",
    "bin_starts = np.array([0.25/2, 0.5+0.25/2])\n",
    "bar_positions = bin_starts + bin_width/2\n",
    "probabilities = np.array([p, 1-p])\n",
    "bars = ax.bar(bar_positions, probabilities, bin_width,\n",
    "              color=\"xkcd:black\",\n",
    "              edgecolor=\"xkcd:white\")\n",
    "ticks_horiz = [0.25, 0.75]\n",
    "ticks_vert = [0.0, p, 1.0]\n",
    "tick_labels_horiz = [r\"$\\left\\{ \\Vert{\\mathrm{X}}\\Vert_{2} \\leq \\sqrt{2} \\right\\}$\",\n",
    "                     r\"$\\left\\{ \\Vert{\\mathrm{X}}\\Vert_{2} > \\sqrt{2} \\right\\}$\"]\n",
    "tick_labels_vert = [\"0\", r\"$p$\", \"1\"]\n",
    "ax.set_xticks(ticks_horiz)\n",
    "ax.set_xticklabels(tick_labels_horiz)\n",
    "ax.set_yticks(ticks_vert)\n",
    "ax.set_yticklabels(tick_labels_vert)\n",
    "ax.set(xlim=(0.0, 1.0), ylim=(0.0, 1.0))\n",
    "plt.tight_layout()\n",
    "fname = os.path.join(img_path, \"demo_surrogate_nolink_probs.{}\".format(my_ext))\n",
    "plt.savefig(fname=fname)\n",
    "plt.show()"
   ]
  },
  {
   "cell_type": "markdown",
   "id": "af944b9b-7b5f-4ec4-b561-e67b620d1ec9",
   "metadata": {},
   "source": [
    "___"
   ]
  }
 ],
 "metadata": {
  "kernelspec": {
   "display_name": "Python 3 (ipykernel)",
   "language": "python",
   "name": "python3"
  },
  "language_info": {
   "codemirror_mode": {
    "name": "ipython",
    "version": 3
   },
   "file_extension": ".py",
   "mimetype": "text/x-python",
   "name": "python",
   "nbconvert_exporter": "python",
   "pygments_lexer": "ipython3",
   "version": "3.11.6"
  }
 },
 "nbformat": 4,
 "nbformat_minor": 5
}
